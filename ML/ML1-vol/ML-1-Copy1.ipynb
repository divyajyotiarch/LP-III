{
 "cells": [
  {
   "cell_type": "code",
   "execution_count": 2,
   "metadata": {},
   "outputs": [],
   "source": [
    "import numpy as np\n",
    "import pandas as pd\n",
    "import matplotlib.pyplot as plt"
   ]
  },
  {
   "cell_type": "code",
   "execution_count": 4,
   "metadata": {},
   "outputs": [
    {
     "data": {
      "text/plain": [
       "0    24.0\n",
       "1    50.0\n",
       "2    15.0\n",
       "3    38.0\n",
       "4    87.0\n",
       "Name: x, dtype: float64"
      ]
     },
     "execution_count": 4,
     "metadata": {},
     "output_type": "execute_result"
    }
   ],
   "source": [
    "dataset = pd.read_csv(\"train-1.csv\") \n",
    "x_train = dataset.x\n",
    "x_train.head()"
   ]
  },
  {
   "cell_type": "code",
   "execution_count": 3,
   "metadata": {},
   "outputs": [
    {
     "data": {
      "image/png": "[encoded data removed]",
      "text/plain": [
       "<Figure size 432x288 with 1 Axes>"
      ]
     },
     "metadata": {},
     "output_type": "display_data"
    }
   ],
   "source": [
    "plt.scatter(x,y)\n",
    "plt.xlabel('x')\n",
    "plt.ylabel('y')\n",
    "plt.show()"
   ]
  },
  {
   "cell_type": "code",
   "execution_count": 4,
   "metadata": {},
   "outputs": [
    {
     "name": "stdout",
     "output_type": "stream",
     "text": [
      "mean(x)  11.125\n",
      "mean(y)  63.625\n"
     ]
    }
   ],
   "source": [
    "#calculate mean(x) and mean(y)\n",
    "mean_x = np.mean(x)\n",
    "mean_y = np.mean(y)\n",
    "print(\"mean(x) \",mean_x)\n",
    "print(\"mean(y) \",mean_y)\n",
    "n = len(x)"
   ]
  },
  {
   "cell_type": "code",
   "execution_count": 5,
   "metadata": {},
   "outputs": [
    {
     "name": "stdout",
     "output_type": "stream",
     "text": [
      "m =  29.51216305062459\n",
      "c =  -264.6978139381986\n"
     ]
    }
   ],
   "source": [
    "# linear regression using least square methods - to find the best fit line\n",
    "# y=mx+c calculate m(slope) and c(y-intercept)\n",
    "numer = 0\n",
    "denom = 0\n",
    "for i in range(0,n):\n",
    "    numer = numer + (x[i]-mean_x)*(y[i]-mean_y)\n",
    "    denom = (x[i]-mean_x)**2\n",
    "m = numer/denom\n",
    "c = mean_y - (m*mean_x)\n",
    "print(\"m = \",m)\n",
    "print(\"c = \",c)"
   ]
  },
  {
   "cell_type": "code",
   "execution_count": 6,
   "metadata": {},
   "outputs": [
    {
     "name": "stdout",
     "output_type": "stream",
     "text": [
      "Enter x to predict y 8\n",
      "Predicted value:  -28.60050953320186\n"
     ]
    }
   ],
   "source": [
    "x1 = input(\"Enter x to predict y \")\n",
    "y1 = m*float(x1) + c\n",
    "print(\"Predicted value: \",y1)"
   ]
  },
  {
   "cell_type": "code",
   "execution_count": 7,
   "metadata": {},
   "outputs": [],
   "source": [
    "# linear regression using gradient descent - to find the best fit line\n",
    "b0, b1 = 0.0, 1.0\n",
    "\n",
    "lr = 0.001\n",
    "epochs = 100\n",
    "error = []\n",
    "\n",
    "# run 100 times\n",
    "for epoch in range(epochs):\n",
    "    # initialize to 0 -> cost of epoch, Jb_0, Jb_1\n",
    "    epoch_cost, cost_b0, cost_b1 = 0, 0, 0\n",
    "    \n",
    "    for i in range(len(x)):\n",
    "        # make prediction\n",
    "        y_pred = (b0 + b1*x[i])\n",
    "        # append squared error\n",
    "        epoch_cost += (y[i] - y_pred)**2 \n",
    "        \n",
    "        for j in range(len(x)):\n",
    "            # partial derivative of b0 and b1 for current row\n",
    "            partial_wrt_b0 = -2 * (y[j] - (b0 + b1*x[j]))\n",
    "            partial_wrt_b1 = (-2 * x[j]) * (y[j] - (b0 + b1*x[j]))\n",
    "            \n",
    "            # increase cost of coeffs\n",
    "            cost_b0 += partial_wrt_b0\n",
    "            cost_b1 += partial_wrt_b1\n",
    "\n",
    "        # calculate new coeffs\n",
    "        b0 = b0 - lr * cost_b0\n",
    "        b1 = b1 - lr * cost_b1"
   ]
  },
  {
   "cell_type": "code",
   "execution_count": 8,
   "metadata": {},
   "outputs": [
    {
     "name": "stdout",
     "output_type": "stream",
     "text": [
      "m =  4.588264905950664\n",
      "c =  12.57992811311955\n",
      "Enter x to predict y 8\n",
      "Predicted value:  49.286047360724865\n"
     ]
    }
   ],
   "source": [
    "print(\"m = \",b1)\n",
    "print(\"c = \",b0)\n",
    "x1 = input(\"Enter x to predict y \")\n",
    "y1 = b1*float(x1) + b0\n",
    "print(\"Predicted value: \",y1)"
   ]
  },
  {
   "cell_type": "code",
   "execution_count": 9,
   "metadata": {},
   "outputs": [
    {
     "data": {
      "image/png": "[encoded data removed]",
      "text/plain": [
       "<Figure size 432x288 with 1 Axes>"
      ]
     },
     "metadata": {},
     "output_type": "display_data"
    }
   ],
   "source": [
    "# Plotting Values and Regression Line\n",
    "max_x = np.max(x) +10\n",
    "min_x = np.min(x)\n",
    "# Calculating line values x and y\n",
    "X = np.linspace(min_x, max_x, 6)\n",
    "Y = b1*X + b0\n",
    "# Ploting Line\n",
    "plt.scatter(x,y)\n",
    "plt.scatter(X, Y, c='#ef4423')\n",
    "plt.plot(X, Y, color='#52b920')\n",
    "plt.xlabel('x')\n",
    "plt.ylabel('y')\n",
    "plt.show()"
   ]
  },
  {
   "cell_type": "code",
   "execution_count": null,
   "metadata": {},
   "outputs": [],
   "source": []
  }
 ],
 "metadata": {
  "kernelspec": {
   "display_name": "Python 3",
   "language": "python",
   "name": "python3"
  },
  "language_info": {
   "codemirror_mode": {
    "name": "ipython",
    "version": 3
   },
   "file_extension": ".py",
   "mimetype": "text/x-python",
   "name": "python",
   "nbconvert_exporter": "python",
   "pygments_lexer": "ipython3",
   "version": "3.6.5"
  }
 },
 "nbformat": 4,
 "nbformat_minor": 2
}
