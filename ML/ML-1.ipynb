{
 "cells": [
  {
   "cell_type": "code",
   "execution_count": 32,
   "metadata": {},
   "outputs": [],
   "source": [
    "x = [10,9,2,15,10,16,11,16]\n",
    "y = [95,80,10,50,45,98,38,93]"
   ]
  },
  {
   "cell_type": "code",
   "execution_count": 33,
   "metadata": {},
   "outputs": [],
   "source": [
    "import numpy as np\n",
    "import pandas as pd\n",
    "import matplotlib.pyplot as plt"
   ]
  },
  {
   "cell_type": "code",
   "execution_count": 34,
   "metadata": {},
   "outputs": [
    {
     "data": {
      "image/png": "[encoded data removed]",
      "text/plain": [
       "<Figure size 432x288 with 1 Axes>"
      ]
     },
     "metadata": {
      "needs_background": "light"
     },
     "output_type": "display_data"
    }
   ],
   "source": [
    "plt.scatter(x,y)\n",
    "plt.xlabel('x')\n",
    "plt.ylabel('y')\n",
    "plt.show()"
   ]
  },
  {
   "cell_type": "code",
   "execution_count": 35,
   "metadata": {},
   "outputs": [
    {
     "name": "stdout",
     "output_type": "stream",
     "text": [
      "mean(x)  11.125\n",
      "mean(y)  63.625\n"
     ]
    }
   ],
   "source": [
    "#calculate mean(x) and mean(y)\n",
    "mean_x = np.mean(x)\n",
    "mean_y = np.mean(y)\n",
    "print(\"mean(x) \",mean_x)\n",
    "print(\"mean(y) \",mean_y)\n",
    "n = len(x)"
   ]
  },
  {
   "cell_type": "code",
   "execution_count": 36,
   "metadata": {},
   "outputs": [
    {
     "name": "stdout",
     "output_type": "stream",
     "text": [
      "m =  29.51216305062459\n",
      "c =  -264.6978139381986\n"
     ]
    }
   ],
   "source": [
    "# linear regression using least square methods - to find the best fit line\n",
    "# y=mx+c calculate m(slope) and c(y-intercept)\n",
    "numer = 0\n",
    "denom = 0\n",
    "for i in range(0,n):\n",
    "    numer = numer + (x[i]-mean_x)*(y[i]-mean_y)\n",
    "    denom = (x[i]-mean_x)**2\n",
    "m = numer/denom\n",
    "c = mean_y - (m*mean_x)\n",
    "print(\"m = \",m)\n",
    "print(\"c = \",c)"
   ]
  },
  {
   "cell_type": "code",
   "execution_count": 38,
   "metadata": {},
   "outputs": [
    {
     "data": {
      "image/png": "[encoded data removed]",
      "text/plain": [
       "<Figure size 432x288 with 1 Axes>"
      ]
     },
     "metadata": {
      "needs_background": "light"
     },
     "output_type": "display_data"
    }
   ],
   "source": [
    "# Plotting Values and Regression Line\n",
    "max_x = np.max(x) +10\n",
    "min_x = np.min(x) -10\n",
    "# Calculating line values x and y\n",
    "X = np.linspace(min_x, max_x, 6)\n",
    "Y = m*X + c\n",
    "# Ploting Line\n",
    "plt.scatter(x,y)\n",
    "plt.scatter(X, Y, c='#ef4423')\n",
    "plt.plot(X, Y, color='#52b920')\n",
    "plt.xlabel('x')\n",
    "plt.ylabel('y')\n",
    "plt.show()"
   ]
  },
  {
   "cell_type": "code",
   "execution_count": null,
   "metadata": {},
   "outputs": [],
   "source": []
  }
 ],
 "metadata": {
  "kernelspec": {
   "display_name": "Python 3",
   "language": "python",
   "name": "python3"
  },
  "language_info": {
   "codemirror_mode": {
    "name": "ipython",
    "version": 3
   },
   "file_extension": ".py",
   "mimetype": "text/x-python",
   "name": "python",
   "nbconvert_exporter": "python",
   "pygments_lexer": "ipython3",
   "version": "3.6.5"
  }
 },
 "nbformat": 4,
 "nbformat_minor": 2
}
