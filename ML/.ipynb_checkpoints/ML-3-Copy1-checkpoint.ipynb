{
 "cells": [
  {
   "cell_type": "code",
   "execution_count": 55,
   "metadata": {},
   "outputs": [],
   "source": [
    "import numpy as np\n",
    "import pandas as pd\n",
    "import matplotlib.pyplot as plt\n",
    "import math\n",
    "from collections import Counter"
   ]
  },
  {
   "cell_type": "code",
   "execution_count": 56,
   "metadata": {},
   "outputs": [],
   "source": [
    "#xp = [4,6]\n",
    "#yp = [4,2]\n",
    "#xn = [2,4,6,4]\n",
    "#yn = [4,2,4,6]\n",
    "\n",
    "xp=[]\n",
    "yp=[]\n",
    "xn=[]\n",
    "yn=[]\n",
    "\n",
    "data = [\n",
    "    (4,4,'Positive'),\n",
    "    (6,2,'Positive'),\n",
    "    (2,4,'Negative'),\n",
    "    (4,2,'Negative'),\n",
    "    (6,4,'Negative'),\n",
    "    (4,6,'Negative'),\n",
    "]"
   ]
  },
  {
   "cell_type": "code",
   "execution_count": 57,
   "metadata": {},
   "outputs": [
    {
     "name": "stdout",
     "output_type": "stream",
     "text": [
      "[4, 6] [4, 2] [2, 4, 6, 4] [4, 2, 4, 6]\n"
     ]
    }
   ],
   "source": [
    "for i in range(0,len(data)):\n",
    "    if(data[i][2]=='Positive'):\n",
    "        xp.append(data[i][0])\n",
    "        yp.append(data[i][1])\n",
    "    else: \n",
    "        xn.append(data[i][0])\n",
    "        yn.append(data[i][1])\n",
    "        \n",
    "print(xp,yp,xn,yn)"
   ]
  },
  {
   "cell_type": "code",
   "execution_count": 58,
   "metadata": {},
   "outputs": [
    {
     "data": {
      "image/png": "[encoded data removed]",
      "text/plain": [
       "<Figure size 432x288 with 1 Axes>"
      ]
     },
     "metadata": {},
     "output_type": "display_data"
    }
   ],
   "source": [
    "fig = plt.figure()\n",
    "ax = fig.gca()\n",
    "ax.set_xticks(np.arange(0, 10, 1))\n",
    "ax.set_yticks(np.arange(0, 10, 1))\n",
    "plt.xlabel('x')\n",
    "plt.ylabel('y')\n",
    "\n",
    "plt.scatter(xp,yp)\n",
    "plt.scatter(xn,yn)\n",
    "plt.grid(True)\n",
    "plt.show()"
   ]
  },
  {
   "cell_type": "code",
   "execution_count": 59,
   "metadata": {},
   "outputs": [],
   "source": [
    "def e_distance(x,y):\n",
    "    obj_list=data\n",
    "    for i in range(0,len(data)):\n",
    "        obj_list[i] += (math.sqrt((x-data[i][0])**2 + (y-data[i][1]))**2,)\n",
    "    return obj_list\n",
    "    "
   ]
  },
  {
   "cell_type": "code",
   "execution_count": 60,
   "metadata": {},
   "outputs": [],
   "source": [
    "def max_Count(vector):\n",
    "    counts = Counter(x[2] for x in vector) \n",
    "    return counts.most_common(1)"
   ]
  },
  {
   "cell_type": "code",
   "execution_count": 61,
   "metadata": {},
   "outputs": [
    {
     "name": "stdout",
     "output_type": "stream",
     "text": [
      "Enter pts x,y and k: 6 6 3\n"
     ]
    }
   ],
   "source": [
    "(x1,y1,k) = map(int,input(\"Enter pts x,y and k: \").split(\" \"))"
   ]
  },
  {
   "cell_type": "code",
   "execution_count": 62,
   "metadata": {},
   "outputs": [],
   "source": [
    "#sort the list and take first k tuples to classify point x1,y1\n",
    "def KNN(x1,y1,k):\n",
    "    if(k>len(data)):\n",
    "        print(\"No. of neighbors exceeding no. of samples\")\n",
    "    vector = e_distance(x1,y1)\n",
    "    print(vector)\n",
    "    vector = sorted(vector,key = lambda x:x[3])\n",
    "    print(vector)\n",
    "    topk = vector[:k]\n",
    "    print(topk)\n",
    "    arr =[]\n",
    "    arr = max_Count(topk)\n",
    "    print(\"Classification is: \")\n",
    "    print(arr[0][0])\n",
    "    "
   ]
  },
  {
   "cell_type": "code",
   "execution_count": 63,
   "metadata": {},
   "outputs": [
    {
     "name": "stdout",
     "output_type": "stream",
     "text": [
      "[(4, 4, 'Positive', 5.999999999999999), (6, 2, 'Positive', 4.0), (2, 4, 'Negative', 17.999999999999996), (4, 2, 'Negative', 8.000000000000002), (6, 4, 'Negative', 2.0000000000000004), (4, 6, 'Negative', 4.0)]\n",
      "[(6, 4, 'Negative', 2.0000000000000004), (6, 2, 'Positive', 4.0), (4, 6, 'Negative', 4.0), (4, 4, 'Positive', 5.999999999999999), (4, 2, 'Negative', 8.000000000000002), (2, 4, 'Negative', 17.999999999999996)]\n",
      "[(6, 4, 'Negative', 2.0000000000000004), (6, 2, 'Positive', 4.0), (4, 6, 'Negative', 4.0)]\n",
      "Classification is: \n",
      "Negative\n"
     ]
    }
   ],
   "source": [
    "KNN(x1,y1,k)"
   ]
  },
  {
   "cell_type": "code",
   "execution_count": null,
   "metadata": {},
   "outputs": [],
   "source": []
  }
 ],
 "metadata": {
  "kernelspec": {
   "display_name": "Python 3",
   "language": "python",
   "name": "python3"
  },
  "language_info": {
   "codemirror_mode": {
    "name": "ipython",
    "version": 3
   },
   "file_extension": ".py",
   "mimetype": "text/x-python",
   "name": "python",
   "nbconvert_exporter": "python",
   "pygments_lexer": "ipython3",
   "version": "3.7.4"
  }
 },
 "nbformat": 4,
 "nbformat_minor": 2
}
